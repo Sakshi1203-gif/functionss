{
  "nbformat": 4,
  "nbformat_minor": 0,
  "metadata": {
    "colab": {
      "provenance": []
    },
    "kernelspec": {
      "name": "python3",
      "display_name": "Python 3"
    },
    "language_info": {
      "name": "python"
    }
  },
  "cells": [
    {
      "cell_type": "code",
      "execution_count": null,
      "metadata": {
        "id": "yqMUCYl3Wy0o"
      },
      "outputs": [],
      "source": []
    },
    {
      "cell_type": "markdown",
      "source": [
        "1. What is the difference between a function and a method in Python?\n",
        "\n",
        "function:\n",
        "\n",
        "-A function is a block of code that is defined to perform a specific task, and it can be called independently. It is not tied to any particular object or class. Functions are typically defined using the def keyword.\n"
      ],
      "metadata": {
        "id": "c-J25XQrW6-b"
      }
    },
    {
      "cell_type": "code",
      "source": [
        "# example of function\n",
        "def greet(name):\n",
        "    return f\"Hello, {name}!\"\n",
        "print(greet(\"Alice\"))\n"
      ],
      "metadata": {
        "colab": {
          "base_uri": "https://localhost:8080/"
        },
        "id": "fsRAOTO-HZOW",
        "outputId": "146a466a-995a-4630-defd-2f9e4e28f8eb"
      },
      "execution_count": 2,
      "outputs": [
        {
          "output_type": "stream",
          "name": "stdout",
          "text": [
            "Hello, Alice!\n"
          ]
        }
      ]
    },
    {
      "cell_type": "markdown",
      "source": [
        "- Method\n",
        "\n",
        "A method is a function that is associated with an object (typically an instance of a class). Methods are defined inside a class, and they can operate on the data contained within the object (instance) they belong to. The first argument of a method is always self, which refers to the current object or instance of the class."
      ],
      "metadata": {
        "id": "3ZruEQhPHwGu"
      }
    },
    {
      "cell_type": "code",
      "source": [
        "#example of method\n",
        "class Person:\n",
        "    def __init__(self, name):\n",
        "        self.name = name\n",
        "\n",
        "    def greet(self):\n",
        "        return f\"Hello, {self.name}!\"\n",
        "\n",
        ""
      ],
      "metadata": {
        "id": "Lh9ppRarHqQa"
      },
      "execution_count": 13,
      "outputs": []
    },
    {
      "cell_type": "code",
      "source": [
        "p = Person(\"Alice\")\n",
        "print(p.greet())"
      ],
      "metadata": {
        "colab": {
          "base_uri": "https://localhost:8080/"
        },
        "id": "I1TwZ-HrIrdt",
        "outputId": "695304fb-00ca-450b-9213-9d89e8e82ddb"
      },
      "execution_count": 14,
      "outputs": [
        {
          "output_type": "stream",
          "name": "stdout",
          "text": [
            "Hello, Alice!\n"
          ]
        }
      ]
    },
    {
      "cell_type": "markdown",
      "source": [
        " 2. Explain the concept of function arguments and parameters in Python\n",
        "\n",
        "- Function Parameters\n",
        "\n",
        "Parameters are the variables that are defined in the function's signature. They act as placeholders for the values that will be passed to the function when it is called. Parameters appear inside the parentheses in the function definition."
      ],
      "metadata": {
        "id": "S5rxPmpCI1qx"
      }
    },
    {
      "cell_type": "code",
      "source": [
        "#example of function parameter\n",
        "def greet(name, age):\n",
        "    print(f\"Hello {name}, you are {age} years old.\")\n"
      ],
      "metadata": {
        "id": "swdAUVUbJPN5"
      },
      "execution_count": 15,
      "outputs": []
    },
    {
      "cell_type": "markdown",
      "source": [
        "-function Arguments\n",
        "\n",
        "Arguments are the actual values or data passed into the function when it is called. These values are assigned to the corresponding parameters defined in the function. Arguments appear in the function call."
      ],
      "metadata": {
        "id": "HDyyjnDeJaUe"
      }
    },
    {
      "cell_type": "code",
      "source": [
        "#example of function argument\n",
        "greet(\"Alice\", 30)\n"
      ],
      "metadata": {
        "colab": {
          "base_uri": "https://localhost:8080/"
        },
        "id": "Mv5P2txwJkKE",
        "outputId": "c672dd5d-a4bb-428a-c5b6-ab826090c96d"
      },
      "execution_count": 16,
      "outputs": [
        {
          "output_type": "stream",
          "name": "stdout",
          "text": [
            "Hello Alice, you are 30 years old.\n"
          ]
        }
      ]
    },
    {
      "cell_type": "markdown",
      "source": [
        " 3. What are the different ways to define and call a function in Python\n",
        "\n",
        "-Simple Function – Define a function using def and call it directly.\n",
        "\n",
        "-Function with Return Values – Use return to return values from the function.\n",
        "\n",
        "-Function with Default Parameters – Set default values for parameters.\n",
        "\n",
        "-Keyword Arguments – Call the function using the parameter names.\n",
        "\n",
        "-Variable-Length Arguments – Use *args and **kwargs to handle an arbitrary number of arguments.\n",
        "\n",
        "-Lambda Functions – Define small, anonymous functions with the lambda keyword.\n",
        "\n",
        "-Nested Functions – Define a function inside another function.\n",
        "\n",
        "-Recursive Functions – Functions that call themselves to solve problems."
      ],
      "metadata": {
        "id": "HHkiKERDJ2pq"
      }
    },
    {
      "cell_type": "code",
      "source": [
        "#example\n",
        "# 1. Simple Function\n",
        "def greet(name):\n",
        "    print(f\"Hello, {name}!\")\n",
        "\n",
        "# 2. Function with Return Values\n",
        "def add(a, b):\n",
        "    return a + b\n",
        "\n",
        "# 3. Function with Default Parameters\n",
        "def greet_with_default(name, greeting=\"Hello\"):\n",
        "    print(f\"{greeting}, {name}!\")\n",
        "\n",
        "# 4. Keyword Arguments\n",
        "def introduce(name, age):\n",
        "    print(f\"Hi, I'm {name}, and I am {age} years old.\")\n",
        "\n",
        "# 5. Variable-Length Arguments (*args and **kwargs)\n",
        "def print_numbers(*args):\n",
        "    print(\"Numbers:\", *args)\n",
        "\n",
        "def print_info(**kwargs):\n",
        "    for key, value in kwargs.items():\n",
        "        print(f\"{key}: {value}\")\n",
        "\n",
        "# 6. Lambda Function (Anonymous Function)\n",
        "multiply = lambda x, y: x * y\n",
        "\n",
        "# 7. Nested Function\n",
        "def outer_function():\n",
        "    def inner_function():\n",
        "        print(\"This is the inner function.\")\n",
        "    inner_function()\n",
        "\n",
        "# 8. Recursive Function\n",
        "def factorial(n):\n",
        "    if n == 0:\n",
        "        return 1\n",
        "    else:\n",
        "        return n * factorial(n - 1)\n",
        "\n",
        "\n",
        "# Function Calls\n",
        "# 1. Calling Simple Function\n",
        "greet(\"Alice\")\n",
        "\n",
        "# 2. Calling Function with Return Value\n",
        "result = add(5, 3)\n",
        "print(f\"Addition Result: {result}\")\n",
        "\n",
        "# 3. Calling Function with Default Parameters\n",
        "greet_with_default(\"Bob\")\n",
        "greet_with_default(\"Charlie\", \"Good morning\")\n",
        "\n",
        "# 4. Calling Function with Keyword Arguments\n",
        "introduce(name=\"Alice\", age=25)\n",
        "\n",
        "# 5. Calling Function with *args\n",
        "print_numbers(1, 2, 3, 4, 5)\n",
        "\n",
        "# 6. Calling Function with **kwargs\n",
        "print_info(name=\"Alice\", age=25, city=\"New York\")\n",
        "\n",
        "# 7. Calling Lambda Function\n",
        "product = multiply(4, 5)\n",
        "print(f\"Product from lambda: {product}\")\n",
        "\n",
        "# 8. Calling Recursive Function\n",
        "result_factorial = factorial(5)\n",
        "print(f\"Factorial of 5: {result_factorial}\")\n",
        "\n",
        "# 9. Calling Nested Function\n",
        "outer_function()\n"
      ],
      "metadata": {
        "colab": {
          "base_uri": "https://localhost:8080/"
        },
        "id": "Iy6OatsJLMGv",
        "outputId": "a5273982-93da-43f5-ebe2-a6bbfc9f95dd"
      },
      "execution_count": 18,
      "outputs": [
        {
          "output_type": "stream",
          "name": "stdout",
          "text": [
            "Hello, Alice!\n",
            "Addition Result: 8\n",
            "Hello, Bob!\n",
            "Good morning, Charlie!\n",
            "Hi, I'm Alice, and I am 25 years old.\n",
            "Numbers: 1 2 3 4 5\n",
            "name: Alice\n",
            "age: 25\n",
            "city: New York\n",
            "Product from lambda: 20\n",
            "Factorial of 5: 120\n",
            "This is the inner function.\n"
          ]
        }
      ]
    },
    {
      "cell_type": "markdown",
      "source": [
        " 4. What is the purpose of the `return` statement in a Python function\n",
        "\n",
        "-Returns a value from a function to the caller.\n",
        "\n",
        "-Exits the function early, stopping further code execution in the function.\n",
        "\n",
        "-Returns None by default if no return value is provided\n",
        "Can be used to return multiple values as tuples, lists, or dictionaries.\n",
        "\n",
        "-Enables returning functions for more advanced programming techniques.\n",
        "\n",
        "\n",
        "\n"
      ],
      "metadata": {
        "id": "OpZItMSzL036"
      }
    },
    {
      "cell_type": "code",
      "source": [
        "#example\n",
        "# 1. Returning a Value to the Caller\n",
        "def add(a, b):\n",
        "    return a + b  # Returns the sum of a and b\n",
        "\n",
        "result = add(5, 3)  # Calls the function and stores the returned value\n",
        "print(f\"Sum: {result}\")  # Output: Sum: 8\n",
        "\n",
        "\n",
        "# 2. Exiting the Function Early\n",
        "def check_number(num):\n",
        "    if num < 0:\n",
        "        return \"Negative number\"  # Exits the function early if the number is negative\n",
        "    return \"Positive number\"  # This line is skipped if the number is negative\n",
        "\n",
        "print(check_number(-5))  # Output: Negative number\n",
        "print(check_number(10))  # Output: Positive number\n",
        "\n",
        "\n",
        "# 3. Returning None by Default (when no return statement is used)\n",
        "def say_hello(name):\n",
        "    print(f\"Hello, {name}!\")\n",
        "\n",
        "result = say_hello(\"Alice\")  # This function doesn't return anything\n",
        "print(f\"Returned value: {result}\")  # Output: Returned value: None\n",
        "\n",
        "\n",
        "# 4. Returning Multiple Values (as a Tuple)\n",
        "def get_coordinates():\n",
        "    x = 10\n",
        "    y = 20\n",
        "    return x, y  # Returns two values as a tuple\n",
        "\n",
        "coordinates = get_coordinates()  # Gets the tuple\n",
        "print(f\"Coordinates: {coordinates}\")  # Output: Coordinates: (10, 20)\n",
        "\n",
        "# Unpacking the returned tuple\n",
        "x_val, y_val = get_coordinates()\n",
        "print(f\"x: {x_val}, y: {y_val}\")  # Output: x: 10, y: 20\n",
        "\n",
        "\n",
        "# 5. Returning Functions (Higher-Order Function)\n",
        "def multiplier(factor):\n",
        "    def multiply(x):\n",
        "        return x * factor\n",
        "    return multiply  # Returning the multiply function\n",
        "\n",
        "double = multiplier(2)  # `double` is now a function that multiplies by 2\n",
        "result = double(4)  # Calling the returned function\n",
        "print(f\"Double of 4: {result}\")  # Output: Double of 4: 8\n"
      ],
      "metadata": {
        "colab": {
          "base_uri": "https://localhost:8080/"
        },
        "id": "IGpbw1djMcaK",
        "outputId": "d27e4cad-cc12-4e01-9201-d0fe513a6a7a"
      },
      "execution_count": 19,
      "outputs": [
        {
          "output_type": "stream",
          "name": "stdout",
          "text": [
            "Sum: 8\n",
            "Negative number\n",
            "Positive number\n",
            "Hello, Alice!\n",
            "Returned value: None\n",
            "Coordinates: (10, 20)\n",
            "x: 10, y: 20\n",
            "Double of 4: 8\n"
          ]
        }
      ]
    },
    {
      "cell_type": "markdown",
      "source": [
        "5. What are iterators in Python and how do they differ from iterables\n",
        "\n",
        "Iterable: An object that can be looped over (e.g., lists, strings, tuples). It is not an iterator itself but can create an iterator via the iter() method.\n",
        "\n",
        "Iterator: An object that performs the actual iteration over the elements of an iterable. It knows its state (current position) and uses next() to get the next element\n",
        "\n",
        "-In short, an iterable is any object that can be turned into an iterator (using iter()), and the iterator is the object that keeps track of the current iteration state and provides the elements."
      ],
      "metadata": {
        "id": "kI6xJFHHMzQ_"
      }
    },
    {
      "cell_type": "code",
      "source": [
        "# Creating an Iterable (a list)\n",
        "my_list = [1, 2, 3]\n",
        "\n",
        "# 1. Using an Iterable directly in a for-loop:\n",
        "print(\"Iterating over the iterable directly (for-loop):\")\n",
        "for item in my_list:  # my_list is an iterable\n",
        "    print(item)\n",
        "\n",
        "print(\"\\n---\")\n",
        "\n",
        "# 2. Creating an Iterator from the Iterable:\n",
        "my_iterator = iter(my_list)  # `iter()` converts the iterable into an iterator\n",
        "\n",
        "# 3. Using the Iterator with `next()`:\n",
        "print(\"Manually iterating using the iterator and next():\")\n",
        "print(next(my_iterator))  # Output: 1\n",
        "print(next(my_iterator))  # Output: 2\n",
        "print(next(my_iterator))  # Output: 3\n",
        "\n",
        "# 4. Attempting to call `next()` after the iterator is exhausted:\n",
        "# This will raise StopIteration\n",
        "try:\n",
        "    print(next(my_iterator))  # This will raise StopIteration\n",
        "except StopIteration:\n",
        "    print(\"StopIteration raised, iterator is exhausted.\")\n"
      ],
      "metadata": {
        "colab": {
          "base_uri": "https://localhost:8080/"
        },
        "id": "gb5AGrOUN-u5",
        "outputId": "067444bf-cbb4-4fe1-bbbe-df3c93a07c20"
      },
      "execution_count": 20,
      "outputs": [
        {
          "output_type": "stream",
          "name": "stdout",
          "text": [
            "Iterating over the iterable directly (for-loop):\n",
            "1\n",
            "2\n",
            "3\n",
            "\n",
            "---\n",
            "Manually iterating using the iterator and next():\n",
            "1\n",
            "2\n",
            "3\n",
            "StopIteration raised, iterator is exhausted.\n"
          ]
        }
      ]
    },
    {
      "cell_type": "markdown",
      "source": [
        "6. Explain the concept of generators in Python and how they are defined\n",
        "\n",
        "-a generator is a special type of iterator that allows you to iterate over a sequence of values without storing them all at once in memory. Generators are lazy, meaning they generate items one at a time and only when requested. This makes them particularly useful when working with large datasets or when memory efficiency is important.\n",
        "\n",
        "-1. Generator Function with yield\n",
        "\n",
        "A generator function is defined like a normal function, but it uses the yield keyword instead of return. The yield statement sends a value back to the caller and pauses the function, saving its state. The function can then be resumed when the next item is requested.\n",
        "\n",
        "-2. Generator Expressions\n",
        "A generator expression is a compact and concise way to create a generator. It’s similar to a list comprehension but uses () instead of []\n"
      ],
      "metadata": {
        "id": "hpHcSN55OLHr"
      }
    },
    {
      "cell_type": "code",
      "source": [
        "# 1. Generator function with `yield`\n",
        "def generate_squares(n):\n",
        "    for i in range(n):\n",
        "        yield i * i  # Yield square numbers\n",
        "\n",
        "# 2. Generator expression\n",
        "squares_gen_expr = (x * x for x in range(1, 6))  # Generator expression for squares\n",
        "\n",
        "# 3. Use the generator function\n",
        "print(\"Using generator function:\")\n",
        "squares_func = generate_squares(5)  # Create generator object from function\n",
        "for square in squares_func:\n",
        "    print(square)\n",
        "\n",
        "print(\"\\n---\")\n",
        "\n",
        "# 4. Use the generator expression\n",
        "print(\"Using generator expression:\")\n",
        "for square in squares_gen_expr:\n",
        "    print(square)\n",
        "\n",
        "print(\"\\n---\")\n",
        "\n",
        "# 5. Generator for large data (Memory Efficiency)\n",
        "def large_number_generator(n):\n",
        "    for i in range(n):\n",
        "        yield i  # Yield numbers one by one\n",
        "\n",
        "# Using the generator for a large range of numbers\n",
        "print(\"Using generator with large data (up to 20):\")\n",
        "for num in large_number_generator(20):\n",
        "    if num == 10:  # Stop early if we reach 10\n",
        "        print(\"Reached 10, stopping...\")\n",
        "        break\n",
        "    print(num)\n",
        "\n"
      ],
      "metadata": {
        "colab": {
          "base_uri": "https://localhost:8080/"
        },
        "id": "Ovf8f4WsXtWF",
        "outputId": "c605e92f-fb9c-4a2d-ddd5-cb0b5a674ddd"
      },
      "execution_count": 21,
      "outputs": [
        {
          "output_type": "stream",
          "name": "stdout",
          "text": [
            "Using generator function:\n",
            "0\n",
            "1\n",
            "4\n",
            "9\n",
            "16\n",
            "\n",
            "---\n",
            "Using generator expression:\n",
            "1\n",
            "4\n",
            "9\n",
            "16\n",
            "25\n",
            "\n",
            "---\n",
            "Using generator with large data (up to 20):\n",
            "0\n",
            "1\n",
            "2\n",
            "3\n",
            "4\n",
            "5\n",
            "6\n",
            "7\n",
            "8\n",
            "9\n",
            "Reached 10, stopping...\n"
          ]
        }
      ]
    },
    {
      "cell_type": "markdown",
      "source": [
        "7. What are the advantages of using generators over regular functions\n",
        "\n",
        "-Memory Efficiency: Generators use less memory by yielding one value at a time instead of storing the entire sequence in memory.\n",
        "\n",
        "Lazy Evaluation: They compute values only when needed, making them more efficient for large datasets or infinite sequences.\n",
        "\n",
        "Handling Infinite Sequences: Generators can handle infinite sequences without consuming infinite memory, unlike regular functions that would require infinite memory.\n",
        "\n",
        "Faster Iteration: Since values are produced on-the-fly, generators are often faster for iterating over large data, as they don’t require creating the entire data structure upfront.\n",
        "\n",
        "Cleaner Code: Generators automatically manage state, leading to simpler, more readable code compared to functions that return large lists or need extra state management.\n",
        "\n",
        "Pipeline Support: Generators are ideal for processing data step-by-step in a pipeline, without needing intermediate storage."
      ],
      "metadata": {
        "id": "Y2C5s7LsX5S9"
      }
    },
    {
      "cell_type": "code",
      "source": [
        "#example\n",
        "\n",
        "# Regular function that returns a list of squares\n",
        "def get_squares(n):\n",
        "    return [i * i for i in range(n)]\n",
        "\n",
        "# Generator function that yields squares one at a time\n",
        "def square_generator(n):\n",
        "    for i in range(n):\n",
        "        yield i * i\n",
        "\n",
        "# Using the regular function\n",
        "print(\"Using regular function (returns list):\")\n",
        "squares = get_squares(5)  # Creates a list in memory\n",
        "print(squares)\n",
        "\n",
        "# Using the generator\n",
        "print(\"\\nUsing generator (yields values one at a time):\")\n",
        "gen = square_generator(5)\n",
        "for square in gen:  # Computes values lazily\n",
        "    print(square)\n"
      ],
      "metadata": {
        "colab": {
          "base_uri": "https://localhost:8080/"
        },
        "id": "yIhY5UCOZFoU",
        "outputId": "b9cf79bf-1788-4815-eb68-d61eb43515d4"
      },
      "execution_count": 22,
      "outputs": [
        {
          "output_type": "stream",
          "name": "stdout",
          "text": [
            "Using regular function (returns list):\n",
            "[0, 1, 4, 9, 16]\n",
            "\n",
            "Using generator (yields values one at a time):\n",
            "0\n",
            "1\n",
            "4\n",
            "9\n",
            "16\n"
          ]
        }
      ]
    },
    {
      "cell_type": "markdown",
      "source": [
        "8. What is a lambda function in Python and when is it typically used\n",
        "\n",
        "-A lambda function in Python is an anonymous function that is defined using the lambda keyword instead of def. Lambda functions can have any number of arguments but can only contain a single expression. The result of the expression is automatically returned.\n",
        "\n",
        "When is a Lambda Function Typically Used?\n",
        "\n",
        "Short Functions: Lambda functions are typically used for small, simple functions that are needed for a short duration. They are often passed as arguments to higher-order functions like map(), filter(), and sorted().\n",
        "\n",
        "Inline Function Definition: If you need a simple function that will only be used once (or a few times), defining it with lambda keeps your code concise without needing a full function definition.\n",
        "\n",
        "Functional Programming: They are commonly used in functional programming paradigms, especially with functions like map(), filter(), and reduce(), where you need to pass a small, simple function."
      ],
      "metadata": {
        "id": "89duek8xZU1J"
      }
    },
    {
      "cell_type": "code",
      "source": [
        "#example\n",
        "# A lambda function that adds two numbers\n",
        "add = lambda x, y: x + y\n",
        "\n",
        "# Using the lambda function\n",
        "print(add(3, 4))  # Output: 7\n"
      ],
      "metadata": {
        "colab": {
          "base_uri": "https://localhost:8080/"
        },
        "id": "7S4p7EsZZzJO",
        "outputId": "72caf604-b0a3-4d80-938b-8657a90ddc74"
      },
      "execution_count": 23,
      "outputs": [
        {
          "output_type": "stream",
          "name": "stdout",
          "text": [
            "7\n"
          ]
        }
      ]
    },
    {
      "cell_type": "markdown",
      "source": [
        "9. Explain the purpose and usage of the `map()` function in Python\n",
        "\n",
        "-The map() function in Python is used to apply a given function to each item of an iterable (like a list, tuple, etc.) and return a map object (which is an iterator) containing the results. This allows you to transform elements of the iterable in a concise and functional manner.\n"
      ],
      "metadata": {
        "id": "hJONKU6lZ6Uw"
      }
    },
    {
      "cell_type": "code",
      "source": [
        "#example\n",
        "# Regular function to square a number\n",
        "def square(x):\n",
        "    return x * x\n",
        "\n",
        "# List of numbers\n",
        "numbers = [1, 2, 3, 4, 5]\n",
        "\n",
        "# Using map to apply the square function to each element\n",
        "squared_numbers = map(square, numbers)\n",
        "\n",
        "# Convert the map object to a list and print\n",
        "print(list(squared_numbers))  # Output: [1, 4, 9, 16, 25]\n"
      ],
      "metadata": {
        "colab": {
          "base_uri": "https://localhost:8080/"
        },
        "id": "jZEKK7mZaM1V",
        "outputId": "e58b638a-9c0e-46b5-b481-93e41fb089ba"
      },
      "execution_count": 24,
      "outputs": [
        {
          "output_type": "stream",
          "name": "stdout",
          "text": [
            "[1, 4, 9, 16, 25]\n"
          ]
        }
      ]
    },
    {
      "cell_type": "markdown",
      "source": [
        " 10. What is the difference between `map()`, `reduce()`, and `filter()` functions in Python?\n",
        "\n",
        " -map(): When you need to transform each element in an iterable. Example: squaring numbers, converting data formats.\n",
        "\n",
        "reduce(): When you want to combine or reduce the elements of an iterable into a single value. Example: summing numbers, calculating the product of a list.\n",
        "\n",
        "filter(): When you need to filter elements based on a condition. Example: extracting even numbers, removing outliers."
      ],
      "metadata": {
        "id": "Ab_U7m8DaTob"
      }
    },
    {
      "cell_type": "code",
      "source": [
        "#example\n",
        "from functools import reduce\n",
        "\n",
        "# List of numbers\n",
        "numbers = [1, 2, 3, 4, 5]\n",
        "\n",
        "# Using map() to square each number\n",
        "squared = map(lambda x: x * x, numbers)\n",
        "\n",
        "# Using filter() to get even numbers\n",
        "even_numbers = filter(lambda x: x % 2 == 0, squared)\n",
        "\n",
        "# Using reduce() to sum the even squares\n",
        "sum_of_even_squares = reduce(lambda x, y: x + y, even_numbers)\n",
        "\n",
        "print(sum_of_even_squares)  # Output: 20 (4 + 16)\n"
      ],
      "metadata": {
        "colab": {
          "base_uri": "https://localhost:8080/"
        },
        "id": "VF8ABIXlakXX",
        "outputId": "60cd55dd-7d44-4980-a7b0-77dac9b07409"
      },
      "execution_count": 25,
      "outputs": [
        {
          "output_type": "stream",
          "name": "stdout",
          "text": [
            "20\n"
          ]
        }
      ]
    },
    {
      "cell_type": "markdown",
      "source": [
        "11. Using pen & Paper write the internal mechanism for sum operation using  reduce function on this given\n",
        "list:[47,11,42,13];\n",
        "\n"
      ],
      "metadata": {
        "id": "y3Yfw8xDa4C1"
      }
    },
    {
      "cell_type": "code",
      "source": [
        "from functools import reduce\n",
        "result = reduce(lambda x, y: x + y, [47, 11, 42, 13])\n",
        "print(result)"
      ],
      "metadata": {
        "colab": {
          "base_uri": "https://localhost:8080/"
        },
        "id": "cUZg5-sfbcCL",
        "outputId": "3a62f874-f8bc-42f2-b448-c2cd5922e976"
      },
      "execution_count": 28,
      "outputs": [
        {
          "output_type": "stream",
          "name": "stdout",
          "text": [
            "113\n"
          ]
        }
      ]
    }
  ]
}